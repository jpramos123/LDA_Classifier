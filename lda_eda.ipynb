{
 "cells": [
  {
   "cell_type": "code",
   "execution_count": 1,
   "metadata": {},
   "outputs": [],
   "source": [
    "from utils import *\n",
    "from sklearn import datasets\n",
    "import numpy as np\n",
    "from collections import defaultdict"
   ]
  },
  {
   "cell_type": "code",
   "execution_count": 2,
   "metadata": {
    "scrolled": false
   },
   "outputs": [],
   "source": [
    "data = datasets.load_iris()\n",
    "\n",
    "features = data.data\n",
    "targets = data.target"
   ]
  },
  {
   "cell_type": "code",
   "execution_count": 3,
   "metadata": {},
   "outputs": [],
   "source": [
    "def create_target_feature_dict(features, targets):\n",
    "    targets_data_dict = {}\n",
    "    for i in range(len(targets)):\n",
    "        if targets[i] not in targets_data_dict.keys():\n",
    "            targets_data_dict[targets[i]] = []\n",
    "            targets_data_dict[targets[i]].append(features[i])\n",
    "        else:\n",
    "            targets_data_dict[targets[i]].append(features[i])\n",
    "\n",
    "    for i in targets_data_dict.keys():\n",
    "        targets_data_dict[i] = np.array(targets_data_dict[i])\n",
    "    return targets_data_dict"
   ]
  },
  {
   "cell_type": "code",
   "execution_count": 25,
   "metadata": {},
   "outputs": [],
   "source": [
    "def create_target_mean_dict(_dict):\n",
    "    \n",
    "    avg_dict = {}\n",
    "    for k in _dict.keys():\n",
    "        avg_dict[k] = np.sum(_dict[k], axis=0)/len(_dict[k])\n",
    "    return avg_dict"
   ]
  },
  {
   "cell_type": "code",
   "execution_count": 151,
   "metadata": {},
   "outputs": [],
   "source": [
    "def create_within_covariance_matrix(_avg_dict, _tgt_features_dict):\n",
    "    cov_matrix_dict = {}\n",
    "    for k in _avg_dict.keys():\n",
    "        s = 0\n",
    "        for i in range(len(_tgt_features_dict[k])):\n",
    "            s = s + ((_tgt_features_dict[k][i] - _avg_dict[k])*np.transpose([(_tgt_features_dict[k][i] - _avg_dict[k])]))/(len(_tgt_features_dict[k])-1)\n",
    "        cov_matrix_dict[k] = s\n",
    "    return cov_matrix_dict"
   ]
  },
  {
   "cell_type": "code",
   "execution_count": 163,
   "metadata": {},
   "outputs": [],
   "source": [
    "def find_within_class_scatter_matrix(_cov_matrix_dict):\n",
    "    \n",
    "    within_class_mtx = 0\n",
    "    for k in _cov_matrix_dict.keys():\n",
    "        within_class_mtx = within_class_mtx + _cov_matrix_dict[k]\n",
    "    return (len(_cov_matrix_dict.keys())-1)*within_class_mtx"
   ]
  },
  {
   "cell_type": "code",
   "execution_count": 114,
   "metadata": {},
   "outputs": [],
   "source": [
    "def find_grand_mean_vec(_features):\n",
    "    return np.sum(_features, axis=0)/len(_features)"
   ]
  },
  {
   "cell_type": "code",
   "execution_count": 123,
   "metadata": {},
   "outputs": [],
   "source": [
    "def create_between_covariance_matrix(_mean_by_target_dict, _gran_mean_vec):\n",
    "    \n",
    "    between_cov_mtx = {}\n",
    "    for k in _mean_by_target_dict.keys():\n",
    "        for i in range(len(_mean_by_target_dict[k])):\n",
    "            between_cov_mtx[k] = (_mean_by_target_dict[k] - _gran_mean_vec)*np.transpose([_mean_by_target_dict[k] - _gran_mean_vec])\n",
    "    return between_cov_mtx"
   ]
  },
  {
   "cell_type": "code",
   "execution_count": 128,
   "metadata": {},
   "outputs": [],
   "source": [
    "def find_between_class_scatter_matrix(_between_cov_mtx_dict):\n",
    "    \n",
    "    between_class_mtx = 0\n",
    "    for k in _between_cov_mtx_dict.keys():\n",
    "        between_class_mtx = between_class_mtx + _between_cov_mtx_dict[k]\n",
    "        \n",
    "    between_class_mtx = len(_between_cov_mtx_dict) * between_class_mtx\n",
    "    return between_class_mtx"
   ]
  },
  {
   "cell_type": "code",
   "execution_count": 27,
   "metadata": {},
   "outputs": [],
   "source": [
    "tgt_ftr_dict = create_target_feature_dict(features, targets)"
   ]
  },
  {
   "cell_type": "code",
   "execution_count": 28,
   "metadata": {},
   "outputs": [],
   "source": [
    "mean_by_target = create_target_mean_dict(tgt_ftr_dict)"
   ]
  },
  {
   "cell_type": "code",
   "execution_count": 29,
   "metadata": {},
   "outputs": [
    {
     "data": {
      "text/plain": [
       "{0: array([5.006, 3.428, 1.462, 0.246]),\n",
       " 1: array([5.936, 2.77 , 4.26 , 1.326]),\n",
       " 2: array([6.588, 2.974, 5.552, 2.026])}"
      ]
     },
     "execution_count": 29,
     "metadata": {},
     "output_type": "execute_result"
    }
   ],
   "source": [
    "mean_by_target"
   ]
  },
  {
   "cell_type": "code",
   "execution_count": 159,
   "metadata": {},
   "outputs": [],
   "source": [
    "cov_matrix_by_tgt = create_within_covariance_matrix(mean_by_target, tgt_ftr_dict)"
   ]
  },
  {
   "cell_type": "code",
   "execution_count": 160,
   "metadata": {},
   "outputs": [
    {
     "data": {
      "text/plain": [
       "{0: array([[0.12424898, 0.09921633, 0.0163551 , 0.01033061],\n",
       "        [0.09921633, 0.1436898 , 0.01169796, 0.00929796],\n",
       "        [0.0163551 , 0.01169796, 0.03015918, 0.00606939],\n",
       "        [0.01033061, 0.00929796, 0.00606939, 0.01110612]]),\n",
       " 1: array([[0.26643265, 0.08518367, 0.18289796, 0.05577959],\n",
       "        [0.08518367, 0.09846939, 0.08265306, 0.04120408],\n",
       "        [0.18289796, 0.08265306, 0.22081633, 0.07310204],\n",
       "        [0.05577959, 0.04120408, 0.07310204, 0.03910612]]),\n",
       " 2: array([[0.40434286, 0.09376327, 0.3032898 , 0.04909388],\n",
       "        [0.09376327, 0.10400408, 0.07137959, 0.04762857],\n",
       "        [0.3032898 , 0.07137959, 0.30458776, 0.04882449],\n",
       "        [0.04909388, 0.04762857, 0.04882449, 0.07543265]])}"
      ]
     },
     "execution_count": 160,
     "metadata": {},
     "output_type": "execute_result"
    }
   ],
   "source": [
    "cov_matrix_by_tgt"
   ]
  },
  {
   "cell_type": "code",
   "execution_count": 164,
   "metadata": {},
   "outputs": [],
   "source": [
    "within_class_matrix = find_within_class_scatter_matrix(cov_matrix_by_tgt)"
   ]
  },
  {
   "cell_type": "code",
   "execution_count": 165,
   "metadata": {},
   "outputs": [
    {
     "data": {
      "text/plain": [
       "array([[1.59004898, 0.55632653, 1.00508571, 0.23040816],\n",
       "       [0.55632653, 0.69232653, 0.33146122, 0.19626122],\n",
       "       [1.00508571, 0.33146122, 1.11112653, 0.25599184],\n",
       "       [0.23040816, 0.19626122, 0.25599184, 0.2512898 ]])"
      ]
     },
     "execution_count": 165,
     "metadata": {},
     "output_type": "execute_result"
    }
   ],
   "source": [
    "within_class_matrix"
   ]
  },
  {
   "cell_type": "code",
   "execution_count": 185,
   "metadata": {},
   "outputs": [],
   "source": [
    "gran_mean_vec = find_grand_mean_vec(features)"
   ]
  },
  {
   "cell_type": "code",
   "execution_count": 186,
   "metadata": {},
   "outputs": [
    {
     "data": {
      "text/plain": [
       "array([5.84333333, 3.05733333, 3.758     , 1.19933333])"
      ]
     },
     "execution_count": 186,
     "metadata": {},
     "output_type": "execute_result"
    }
   ],
   "source": [
    "gran_mean_vec"
   ]
  },
  {
   "cell_type": "code",
   "execution_count": 187,
   "metadata": {},
   "outputs": [],
   "source": [
    "between_cov_mtx = create_between_covariance_matrix(mean_by_target, gran_mean_vec)"
   ]
  },
  {
   "cell_type": "code",
   "execution_count": 188,
   "metadata": {},
   "outputs": [
    {
     "data": {
      "text/plain": [
       "{0: array([[ 0.70112711, -0.31037156,  1.92251733,  0.79825778],\n",
       "        [-0.31037156,  0.13739378, -0.85105067, -0.35336889],\n",
       "        [ 1.92251733, -0.85105067,  5.271616  ,  2.18885333],\n",
       "        [ 0.79825778, -0.35336889,  2.18885333,  0.90884444]]),\n",
       " 1: array([[ 0.00858711, -0.02662622,  0.04651867,  0.01173778],\n",
       "        [-0.02662622,  0.08256044, -0.14424133, -0.03639556],\n",
       "        [ 0.04651867, -0.14424133,  0.252004  ,  0.06358667],\n",
       "        [ 0.01173778, -0.03639556,  0.06358667,  0.01604444]]),\n",
       " 2: array([[ 0.55452844, -0.06205556,  1.335932  ,  0.61559111],\n",
       "        [-0.06205556,  0.00694444, -0.1495    , -0.06888889],\n",
       "        [ 1.335932  , -0.1495    ,  3.218436  ,  1.48304   ],\n",
       "        [ 0.61559111, -0.06888889,  1.48304   ,  0.68337778]])}"
      ]
     },
     "execution_count": 188,
     "metadata": {},
     "output_type": "execute_result"
    }
   ],
   "source": [
    "between_cov_mtx"
   ]
  },
  {
   "cell_type": "code",
   "execution_count": 189,
   "metadata": {},
   "outputs": [],
   "source": [
    "between_class_matrix = find_between_class_scatter_matrix(between_cov_mtx)"
   ]
  },
  {
   "cell_type": "code",
   "execution_count": 190,
   "metadata": {},
   "outputs": [
    {
     "data": {
      "text/plain": [
       "array([[ 3.792728, -1.19716 ,  9.914904,  4.27676 ],\n",
       "       [-1.19716 ,  0.680696, -3.434376, -1.37596 ],\n",
       "       [ 9.914904, -3.434376, 26.226168, 11.20644 ],\n",
       "       [ 4.27676 , -1.37596 , 11.20644 ,  4.8248  ]])"
      ]
     },
     "execution_count": 190,
     "metadata": {},
     "output_type": "execute_result"
    }
   ],
   "source": [
    "between_class_matrix"
   ]
  },
  {
   "cell_type": "code",
   "execution_count": 191,
   "metadata": {},
   "outputs": [
    {
     "data": {
      "text/plain": [
       "array([[ 1.80725312, -0.89619683, -1.49865365,  0.56956517],\n",
       "       [-0.89619683,  2.37231318,  0.44496668, -1.48438125],\n",
       "       [-1.49865365,  0.44496668,  2.46486729, -1.48439603],\n",
       "       [ 0.56956517, -1.48438125, -1.48439603,  6.12872989]])"
      ]
     },
     "execution_count": 191,
     "metadata": {},
     "output_type": "execute_result"
    }
   ],
   "source": [
    "np.linalg.inv(within_class_matrix)"
   ]
  },
  {
   "cell_type": "code",
   "execution_count": 192,
   "metadata": {},
   "outputs": [
    {
     "data": {
      "text/plain": [
       "array([[ 3.792728, -1.19716 ,  9.914904,  4.27676 ],\n",
       "       [-1.19716 ,  0.680696, -3.434376, -1.37596 ],\n",
       "       [ 9.914904, -3.434376, 26.226168, 11.20644 ],\n",
       "       [ 4.27676 , -1.37596 , 11.20644 ,  4.8248  ]])"
      ]
     },
     "execution_count": 192,
     "metadata": {},
     "output_type": "execute_result"
    }
   ],
   "source": [
    "between_class_matrix"
   ]
  },
  {
   "cell_type": "code",
   "execution_count": 196,
   "metadata": {},
   "outputs": [],
   "source": [
    "sw_1_sb = np.matmul(np.linalg.inv(within_class_matrix),between_class_matrix)"
   ]
  },
  {
   "cell_type": "code",
   "execution_count": 200,
   "metadata": {},
   "outputs": [],
   "source": [
    "eigs = np.linalg.eig(sw_1_sb)"
   ]
  },
  {
   "cell_type": "code",
   "execution_count": 201,
   "metadata": {},
   "outputs": [
    {
     "data": {
      "text/plain": [
       "array([ 4.73221359e+01,  4.19524833e-01,  7.60492412e-15, -3.80710247e-15])"
      ]
     },
     "execution_count": 201,
     "metadata": {},
     "output_type": "execute_result"
    }
   ],
   "source": [
    "eigs[0]"
   ]
  },
  {
   "cell_type": "code",
   "execution_count": 202,
   "metadata": {},
   "outputs": [
    {
     "data": {
      "text/plain": [
       "array([[-0.20874182, -0.00653196,  0.74599644,  0.22410959],\n",
       "       [-0.38620369, -0.58661055, -0.42659328,  0.25191508],\n",
       "       [ 0.55401172,  0.25256154, -0.44531412,  0.32570073],\n",
       "       [ 0.7073504 , -0.76945309,  0.2514017 , -0.88330783]])"
      ]
     },
     "execution_count": 202,
     "metadata": {},
     "output_type": "execute_result"
    }
   ],
   "source": [
    "eigs[1]"
   ]
  },
  {
   "cell_type": "code",
   "execution_count": null,
   "metadata": {},
   "outputs": [],
   "source": []
  },
  {
   "cell_type": "code",
   "execution_count": null,
   "metadata": {},
   "outputs": [],
   "source": []
  },
  {
   "cell_type": "code",
   "execution_count": 166,
   "metadata": {},
   "outputs": [],
   "source": [
    "t_features = np.array([[4,2],[2,4],[2,3],[3,6],[4,4],[9,10],[6,8],[9,5],[8,7],[10,8]])\n",
    "t_targets = np.array([0,0,0,0,0,1,1,1,1,1])"
   ]
  },
  {
   "cell_type": "code",
   "execution_count": 167,
   "metadata": {},
   "outputs": [],
   "source": [
    "t_tgt_ftr_dict = create_target_feature_dict(t_features, t_targets)"
   ]
  },
  {
   "cell_type": "code",
   "execution_count": 168,
   "metadata": {},
   "outputs": [],
   "source": [
    "t_mean_by_target = create_target_mean_dict(t_tgt_ftr_dict)"
   ]
  },
  {
   "cell_type": "code",
   "execution_count": 169,
   "metadata": {
    "scrolled": true
   },
   "outputs": [
    {
     "data": {
      "text/plain": [
       "{0: array([3. , 3.8]), 1: array([8.4, 7.6])}"
      ]
     },
     "execution_count": 169,
     "metadata": {},
     "output_type": "execute_result"
    }
   ],
   "source": [
    "t_mean_by_target"
   ]
  },
  {
   "cell_type": "code",
   "execution_count": 170,
   "metadata": {},
   "outputs": [],
   "source": [
    "t_cov_matrix_by_tgt = create_within_covariance_matrix(t_mean_by_target, t_tgt_ftr_dict)"
   ]
  },
  {
   "cell_type": "code",
   "execution_count": 171,
   "metadata": {},
   "outputs": [
    {
     "data": {
      "text/plain": [
       "{0: array([[ 1.  , -0.25],\n",
       "        [-0.25,  2.2 ]]), 1: array([[ 2.3 , -0.05],\n",
       "        [-0.05,  3.3 ]])}"
      ]
     },
     "execution_count": 171,
     "metadata": {},
     "output_type": "execute_result"
    }
   ],
   "source": [
    "t_cov_matrix_by_tgt"
   ]
  },
  {
   "cell_type": "code",
   "execution_count": 172,
   "metadata": {},
   "outputs": [],
   "source": [
    "t_within_class_matrix = find_within_class_scatter_matrix(t_cov_matrix_by_tgt)"
   ]
  },
  {
   "cell_type": "code",
   "execution_count": 173,
   "metadata": {},
   "outputs": [
    {
     "data": {
      "text/plain": [
       "array([[ 3.3, -0.3],\n",
       "       [-0.3,  5.5]])"
      ]
     },
     "execution_count": 173,
     "metadata": {},
     "output_type": "execute_result"
    }
   ],
   "source": [
    "t_within_class_matrix"
   ]
  },
  {
   "cell_type": "code",
   "execution_count": 174,
   "metadata": {},
   "outputs": [],
   "source": [
    "t_gran_mean_vec = find_grand_mean_vec(t_features)"
   ]
  },
  {
   "cell_type": "code",
   "execution_count": 176,
   "metadata": {},
   "outputs": [
    {
     "data": {
      "text/plain": [
       "array([5.7, 5.7])"
      ]
     },
     "execution_count": 176,
     "metadata": {},
     "output_type": "execute_result"
    }
   ],
   "source": [
    "t_gran_mean_vec"
   ]
  },
  {
   "cell_type": "code",
   "execution_count": 177,
   "metadata": {},
   "outputs": [],
   "source": [
    "t_between_cov_mtx = create_between_covariance_matrix(t_mean_by_target, t_gran_mean_vec)"
   ]
  },
  {
   "cell_type": "code",
   "execution_count": 178,
   "metadata": {},
   "outputs": [
    {
     "data": {
      "text/plain": [
       "{0: array([[7.29, 5.13],\n",
       "        [5.13, 3.61]]), 1: array([[7.29, 5.13],\n",
       "        [5.13, 3.61]])}"
      ]
     },
     "execution_count": 178,
     "metadata": {},
     "output_type": "execute_result"
    }
   ],
   "source": [
    "t_between_cov_mtx"
   ]
  },
  {
   "cell_type": "code",
   "execution_count": 179,
   "metadata": {},
   "outputs": [],
   "source": [
    "t_between_class_matrix = find_between_class_scatter_matrix(t_between_cov_mtx)"
   ]
  },
  {
   "cell_type": "code",
   "execution_count": 180,
   "metadata": {},
   "outputs": [
    {
     "data": {
      "text/plain": [
       "array([[29.16, 20.52],\n",
       "       [20.52, 14.44]])"
      ]
     },
     "execution_count": 180,
     "metadata": {},
     "output_type": "execute_result"
    }
   ],
   "source": [
    "t_between_class_matrix"
   ]
  },
  {
   "cell_type": "code",
   "execution_count": 181,
   "metadata": {},
   "outputs": [
    {
     "data": {
      "text/plain": [
       "array([[ 3.3, -0.3],\n",
       "       [-0.3,  5.5]])"
      ]
     },
     "execution_count": 181,
     "metadata": {},
     "output_type": "execute_result"
    }
   ],
   "source": [
    "t_within_class_matrix"
   ]
  },
  {
   "cell_type": "code",
   "execution_count": 182,
   "metadata": {},
   "outputs": [
    {
     "data": {
      "text/plain": [
       "array([[0.30454042, 0.0166113 ],\n",
       "       [0.0166113 , 0.18272425]])"
      ]
     },
     "execution_count": 182,
     "metadata": {},
     "output_type": "execute_result"
    }
   ],
   "source": [
    "np.linalg.inv(t_within_class_matrix)"
   ]
  },
  {
   "cell_type": "code",
   "execution_count": 183,
   "metadata": {},
   "outputs": [
    {
     "data": {
      "text/plain": [
       "array([[29.16, 20.52],\n",
       "       [20.52, 14.44]])"
      ]
     },
     "execution_count": 183,
     "metadata": {},
     "output_type": "execute_result"
    }
   ],
   "source": [
    "t_between_class_matrix"
   ]
  },
  {
   "cell_type": "code",
   "execution_count": 204,
   "metadata": {},
   "outputs": [],
   "source": [
    "t_sw_1_sb = np.matmul(np.linalg.inv(t_within_class_matrix),t_between_class_matrix)"
   ]
  },
  {
   "cell_type": "code",
   "execution_count": 206,
   "metadata": {},
   "outputs": [],
   "source": [
    "t_eings = np.linalg.eig(t_sw_1_sb)"
   ]
  },
  {
   "cell_type": "code",
   "execution_count": 207,
   "metadata": {},
   "outputs": [
    {
     "data": {
      "text/plain": [
       "array([ 1.22006645e+01, -8.88178420e-16])"
      ]
     },
     "execution_count": 207,
     "metadata": {},
     "output_type": "execute_result"
    }
   ],
   "source": [
    "t_eings[0]"
   ]
  },
  {
   "cell_type": "code",
   "execution_count": 208,
   "metadata": {},
   "outputs": [
    {
     "data": {
      "text/plain": [
       "array([[ 0.90878558, -0.57549341],\n",
       "       [ 0.41726342,  0.81780642]])"
      ]
     },
     "execution_count": 208,
     "metadata": {},
     "output_type": "execute_result"
    }
   ],
   "source": [
    "t_eings[1]"
   ]
  },
  {
   "cell_type": "code",
   "execution_count": null,
   "metadata": {},
   "outputs": [],
   "source": []
  },
  {
   "cell_type": "code",
   "execution_count": 12,
   "metadata": {},
   "outputs": [],
   "source": [
    "x1_avg = np.sum(x1, axis=0)/len(x1)"
   ]
  },
  {
   "cell_type": "code",
   "execution_count": 13,
   "metadata": {},
   "outputs": [],
   "source": [
    "x2_avg = np.sum(x2, axis=0)/len(x2)"
   ]
  },
  {
   "cell_type": "code",
   "execution_count": 81,
   "metadata": {},
   "outputs": [],
   "source": [
    "s1 = 0\n",
    "for i in range(len(x1)):\n",
    "    s1 = s1 + (x1[i] - x1_avg)*np.transpose([(x1[i] - x1_avg)])"
   ]
  },
  {
   "cell_type": "code",
   "execution_count": 82,
   "metadata": {
    "scrolled": true
   },
   "outputs": [
    {
     "data": {
      "text/plain": [
       "array([[ 1.  , -1.8 ],\n",
       "       [-1.8 ,  3.24]])"
      ]
     },
     "execution_count": 82,
     "metadata": {},
     "output_type": "execute_result"
    }
   ],
   "source": [
    "s1"
   ]
  },
  {
   "cell_type": "code",
   "execution_count": 69,
   "metadata": {},
   "outputs": [
    {
     "data": {
      "text/plain": [
       "5"
      ]
     },
     "execution_count": 69,
     "metadata": {},
     "output_type": "execute_result"
    }
   ],
   "source": [
    "len(x2)"
   ]
  },
  {
   "cell_type": "code",
   "execution_count": 78,
   "metadata": {},
   "outputs": [],
   "source": [
    "s2 = 0\n",
    "for i in range(1):\n",
    "    s2 = s2 + (x2[i] - x2_avg)*np.transpose([(x2[i] - x2_avg)])"
   ]
  },
  {
   "cell_type": "code",
   "execution_count": 79,
   "metadata": {},
   "outputs": [
    {
     "data": {
      "text/plain": [
       "array([[0.36, 1.44],\n",
       "       [1.44, 5.76]])"
      ]
     },
     "execution_count": 79,
     "metadata": {},
     "output_type": "execute_result"
    }
   ],
   "source": [
    "s2"
   ]
  },
  {
   "cell_type": "code",
   "execution_count": 17,
   "metadata": {},
   "outputs": [],
   "source": [
    "sw = (s1/4)+(s2/4)"
   ]
  },
  {
   "cell_type": "code",
   "execution_count": 18,
   "metadata": {},
   "outputs": [
    {
     "data": {
      "text/plain": [
       "array([3. , 3.8])"
      ]
     },
     "execution_count": 18,
     "metadata": {},
     "output_type": "execute_result"
    }
   ],
   "source": [
    "x1_avg"
   ]
  },
  {
   "cell_type": "code",
   "execution_count": 19,
   "metadata": {},
   "outputs": [
    {
     "data": {
      "text/plain": [
       "array([57, 57])"
      ]
     },
     "execution_count": 19,
     "metadata": {},
     "output_type": "execute_result"
    }
   ],
   "source": [
    "np.sum(np.concatenate((x1,x2), axis=0),axis=0)"
   ]
  },
  {
   "cell_type": "code",
   "execution_count": 20,
   "metadata": {},
   "outputs": [
    {
     "data": {
      "text/plain": [
       "array([[4, 2],\n",
       "       [2, 4],\n",
       "       [2, 3],\n",
       "       [3, 6],\n",
       "       [4, 4]])"
      ]
     },
     "execution_count": 20,
     "metadata": {},
     "output_type": "execute_result"
    }
   ],
   "source": [
    "x1"
   ]
  },
  {
   "cell_type": "code",
   "execution_count": 21,
   "metadata": {},
   "outputs": [
    {
     "ename": "TypeError",
     "evalue": "concatenate() missing 1 required positional argument: 'arrays'",
     "output_type": "error",
     "traceback": [
      "\u001b[0;31m---------------------------------------------------------------------------\u001b[0m",
      "\u001b[0;31mTypeError\u001b[0m                                 Traceback (most recent call last)",
      "\u001b[0;32m<ipython-input-21-6554c4b48b51>\u001b[0m in \u001b[0;36m<module>\u001b[0;34m\u001b[0m\n\u001b[0;32m----> 1\u001b[0;31m \u001b[0;34m(\u001b[0m\u001b[0mnp\u001b[0m\u001b[0;34m.\u001b[0m\u001b[0msum\u001b[0m\u001b[0;34m(\u001b[0m\u001b[0mx1\u001b[0m\u001b[0;34m,\u001b[0m \u001b[0maxis\u001b[0m\u001b[0;34m=\u001b[0m\u001b[0;36m0\u001b[0m\u001b[0;34m)\u001b[0m\u001b[0;34m+\u001b[0m\u001b[0mnp\u001b[0m\u001b[0;34m.\u001b[0m\u001b[0msum\u001b[0m\u001b[0;34m(\u001b[0m\u001b[0mx2\u001b[0m\u001b[0;34m,\u001b[0m \u001b[0maxis\u001b[0m\u001b[0;34m=\u001b[0m\u001b[0;36m0\u001b[0m\u001b[0;34m)\u001b[0m\u001b[0;34m)\u001b[0m\u001b[0;34m/\u001b[0m\u001b[0mnp\u001b[0m\u001b[0;34m.\u001b[0m\u001b[0mconcatenate\u001b[0m\u001b[0;34m(\u001b[0m\u001b[0;34m)\u001b[0m\u001b[0;34m\u001b[0m\u001b[0;34m\u001b[0m\u001b[0m\n\u001b[0m",
      "\u001b[0;32m<__array_function__ internals>\u001b[0m in \u001b[0;36mconcatenate\u001b[0;34m(*args, **kwargs)\u001b[0m\n",
      "\u001b[0;31mTypeError\u001b[0m: concatenate() missing 1 required positional argument: 'arrays'"
     ]
    }
   ],
   "source": [
    "(np.sum(x1, axis=0)+np.sum(x2, axis=0))/np.concatenate()"
   ]
  }
 ],
 "metadata": {
  "kernelspec": {
   "display_name": "Python 3",
   "language": "python",
   "name": "python3"
  },
  "language_info": {
   "codemirror_mode": {
    "name": "ipython",
    "version": 3
   },
   "file_extension": ".py",
   "mimetype": "text/x-python",
   "name": "python",
   "nbconvert_exporter": "python",
   "pygments_lexer": "ipython3",
   "version": "3.7.7"
  }
 },
 "nbformat": 4,
 "nbformat_minor": 2
}
